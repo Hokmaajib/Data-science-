{
 "cells": [
  {
   "cell_type": "markdown",
   "id": "5cdfb1ae",
   "metadata": {},
   "source": [
    "# Data Science Tools and Ecosystem"
   ]
  },
  {
   "cell_type": "markdown",
   "id": "cc9fe8d6",
   "metadata": {},
   "source": [
    "in this notebook, Data Science Tools and Ecosystem are Summarized"
   ]
  },
  {
   "cell_type": "markdown",
   "id": "093e5bb9",
   "metadata": {},
   "source": [
    "some of the popular languages that data scientist use are\n",
    "1. python\n",
    "2. R \n",
    "3. SQl"
   ]
  },
  {
   "cell_type": "markdown",
   "id": "7c79640f",
   "metadata": {},
   "source": [
    "some of the commonly used libraries used by data scientists include:\n",
    "1. Numpy\n",
    "2. pandas\n",
    "3. scikit-learn"
   ]
  },
  {
   "cell_type": "markdown",
   "id": "92274f4b",
   "metadata": {},
   "source": [
    "|Data Science|\n",
    "|------------|\n",
    "|jupyter notebook|\n",
    "|RStudio|jedjk|\n",
    "|Apache Zeppelin|"
   ]
  },
  {
   "cell_type": "markdown",
   "id": "3cff91e7",
   "metadata": {},
   "source": [
    "### Below are a few examples of evaluating arithmetic expressions in python"
   ]
  },
  {
   "cell_type": "code",
   "execution_count": 7,
   "id": "5b2f5ddd",
   "metadata": {},
   "outputs": [
    {
     "data": {
      "text/plain": [
       "17"
      ]
     },
     "execution_count": 7,
     "metadata": {},
     "output_type": "execute_result"
    }
   ],
   "source": [
    "(3*4)+5\n",
    "#This is a simple arithmetic expression to multiply then add integers"
   ]
  },
  {
   "cell_type": "code",
   "execution_count": 8,
   "id": "09d98942",
   "metadata": {},
   "outputs": [
    {
     "name": "stdout",
     "output_type": "stream",
     "text": [
      "3.3333333333333335\n"
     ]
    }
   ],
   "source": [
    "#This will convert 200 minutes to hours  by dividing by 60\n",
    "def minutes_to_hours(min):\n",
    "    return min/60\n",
    "r=minutes_to_hours(200)\n",
    "print(r)"
   ]
  },
  {
   "cell_type": "markdown",
   "id": "e11184d6",
   "metadata": {},
   "source": [
    "**Objective:**\n",
    "- list popular languages for data science\n",
    "- create markdown cell\n",
    "- create table in markdown cell"
   ]
  },
  {
   "cell_type": "markdown",
   "id": "fb2a0c1b",
   "metadata": {},
   "source": [
    "## AUTHOR\n",
    "OKEOWO MUIZ"
   ]
  }
 ],
 "metadata": {
  "kernelspec": {
   "display_name": "Python 3 (ipykernel)",
   "language": "python",
   "name": "python3"
  },
  "language_info": {
   "codemirror_mode": {
    "name": "ipython",
    "version": 3
   },
   "file_extension": ".py",
   "mimetype": "text/x-python",
   "name": "python",
   "nbconvert_exporter": "python",
   "pygments_lexer": "ipython3",
   "version": "3.11.5"
  }
 },
 "nbformat": 4,
 "nbformat_minor": 5
}
